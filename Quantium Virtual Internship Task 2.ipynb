{
 "cells": [
  {
   "cell_type": "markdown",
   "metadata": {},
   "source": [
    "## Quantium Virtual Internship Task2"
   ]
  },
  {
   "cell_type": "code",
   "execution_count": 1,
   "metadata": {},
   "outputs": [],
   "source": [
    "#Importing Libraries\n",
    "import pandas as pd\n",
    "import numpy as np\n",
    "from scipy.stats import ttest_ind, t, ks_2samp\n",
    "from sklearn.preprocessing import StandardScaler\n",
    "import matplotlib.pyplot as plt\n",
    "import seaborn as sns\n",
    "import datetime\n",
    "from datetime import datetime, date\n",
    "import warnings\n",
    "warnings.filterwarnings('ignore')"
   ]
  },
  {
   "cell_type": "code",
   "execution_count": 2,
   "metadata": {},
   "outputs": [],
   "source": [
    "#Importing Data\n",
    "data=pd.read_csv('QVI_data.csv')"
   ]
  },
  {
   "cell_type": "code",
   "execution_count": 3,
   "metadata": {},
   "outputs": [
    {
     "data": {
      "text/html": [
       "<div>\n",
       "<style scoped>\n",
       "    .dataframe tbody tr th:only-of-type {\n",
       "        vertical-align: middle;\n",
       "    }\n",
       "\n",
       "    .dataframe tbody tr th {\n",
       "        vertical-align: top;\n",
       "    }\n",
       "\n",
       "    .dataframe thead th {\n",
       "        text-align: right;\n",
       "    }\n",
       "</style>\n",
       "<table border=\"1\" class=\"dataframe\">\n",
       "  <thead>\n",
       "    <tr style=\"text-align: right;\">\n",
       "      <th></th>\n",
       "      <th>LYLTY_CARD_NBR</th>\n",
       "      <th>DATE</th>\n",
       "      <th>STORE_NBR</th>\n",
       "      <th>TXN_ID</th>\n",
       "      <th>PROD_NBR</th>\n",
       "      <th>PROD_NAME</th>\n",
       "      <th>PROD_QTY</th>\n",
       "      <th>TOT_SALES</th>\n",
       "      <th>PACK_SIZE</th>\n",
       "      <th>BRAND</th>\n",
       "      <th>LIFESTAGE</th>\n",
       "      <th>PREMIUM_CUSTOMER</th>\n",
       "    </tr>\n",
       "  </thead>\n",
       "  <tbody>\n",
       "    <tr>\n",
       "      <th>0</th>\n",
       "      <td>1000</td>\n",
       "      <td>2018-10-17</td>\n",
       "      <td>1</td>\n",
       "      <td>1</td>\n",
       "      <td>5</td>\n",
       "      <td>Natural Chip        Compny SeaSalt175g</td>\n",
       "      <td>2</td>\n",
       "      <td>6.0</td>\n",
       "      <td>175</td>\n",
       "      <td>NATURAL</td>\n",
       "      <td>YOUNG SINGLES/COUPLES</td>\n",
       "      <td>Premium</td>\n",
       "    </tr>\n",
       "    <tr>\n",
       "      <th>1</th>\n",
       "      <td>1002</td>\n",
       "      <td>2018-09-16</td>\n",
       "      <td>1</td>\n",
       "      <td>2</td>\n",
       "      <td>58</td>\n",
       "      <td>Red Rock Deli Chikn&amp;Garlic Aioli 150g</td>\n",
       "      <td>1</td>\n",
       "      <td>2.7</td>\n",
       "      <td>150</td>\n",
       "      <td>RRD</td>\n",
       "      <td>YOUNG SINGLES/COUPLES</td>\n",
       "      <td>Mainstream</td>\n",
       "    </tr>\n",
       "    <tr>\n",
       "      <th>2</th>\n",
       "      <td>1003</td>\n",
       "      <td>2019-03-07</td>\n",
       "      <td>1</td>\n",
       "      <td>3</td>\n",
       "      <td>52</td>\n",
       "      <td>Grain Waves Sour    Cream&amp;Chives 210G</td>\n",
       "      <td>1</td>\n",
       "      <td>3.6</td>\n",
       "      <td>210</td>\n",
       "      <td>GRNWVES</td>\n",
       "      <td>YOUNG FAMILIES</td>\n",
       "      <td>Budget</td>\n",
       "    </tr>\n",
       "  </tbody>\n",
       "</table>\n",
       "</div>"
      ],
      "text/plain": [
       "   LYLTY_CARD_NBR        DATE  STORE_NBR  TXN_ID  PROD_NBR  \\\n",
       "0            1000  2018-10-17          1       1         5   \n",
       "1            1002  2018-09-16          1       2        58   \n",
       "2            1003  2019-03-07          1       3        52   \n",
       "\n",
       "                                PROD_NAME  PROD_QTY  TOT_SALES  PACK_SIZE  \\\n",
       "0  Natural Chip        Compny SeaSalt175g         2        6.0        175   \n",
       "1   Red Rock Deli Chikn&Garlic Aioli 150g         1        2.7        150   \n",
       "2   Grain Waves Sour    Cream&Chives 210G         1        3.6        210   \n",
       "\n",
       "     BRAND              LIFESTAGE PREMIUM_CUSTOMER  \n",
       "0  NATURAL  YOUNG SINGLES/COUPLES          Premium  \n",
       "1      RRD  YOUNG SINGLES/COUPLES       Mainstream  \n",
       "2  GRNWVES         YOUNG FAMILIES           Budget  "
      ]
     },
     "execution_count": 3,
     "metadata": {},
     "output_type": "execute_result"
    }
   ],
   "source": [
    "data.head(3)"
   ]
  },
  {
   "cell_type": "code",
   "execution_count": 4,
   "metadata": {},
   "outputs": [],
   "source": [
    "data['DATE']=pd.to_datetime(data['DATE'])"
   ]
  },
  {
   "cell_type": "code",
   "execution_count": 5,
   "metadata": {},
   "outputs": [],
   "source": [
    "#Creating a date-month column\n",
    "data['MONTH']=data['DATE'].dt.strftime('%Y%m').apply(lambda x: int(x))"
   ]
  },
  {
   "cell_type": "code",
   "execution_count": 6,
   "metadata": {
    "scrolled": true
   },
   "outputs": [
    {
     "data": {
      "text/html": [
       "<div>\n",
       "<style scoped>\n",
       "    .dataframe tbody tr th:only-of-type {\n",
       "        vertical-align: middle;\n",
       "    }\n",
       "\n",
       "    .dataframe tbody tr th {\n",
       "        vertical-align: top;\n",
       "    }\n",
       "\n",
       "    .dataframe thead th {\n",
       "        text-align: right;\n",
       "    }\n",
       "</style>\n",
       "<table border=\"1\" class=\"dataframe\">\n",
       "  <thead>\n",
       "    <tr style=\"text-align: right;\">\n",
       "      <th></th>\n",
       "      <th>LYLTY_CARD_NBR</th>\n",
       "      <th>DATE</th>\n",
       "      <th>STORE_NBR</th>\n",
       "      <th>TXN_ID</th>\n",
       "      <th>PROD_NBR</th>\n",
       "      <th>PROD_NAME</th>\n",
       "      <th>PROD_QTY</th>\n",
       "      <th>TOT_SALES</th>\n",
       "      <th>PACK_SIZE</th>\n",
       "      <th>BRAND</th>\n",
       "      <th>LIFESTAGE</th>\n",
       "      <th>PREMIUM_CUSTOMER</th>\n",
       "      <th>MONTH</th>\n",
       "    </tr>\n",
       "  </thead>\n",
       "  <tbody>\n",
       "    <tr>\n",
       "      <th>0</th>\n",
       "      <td>1000</td>\n",
       "      <td>2018-10-17</td>\n",
       "      <td>1</td>\n",
       "      <td>1</td>\n",
       "      <td>5</td>\n",
       "      <td>Natural Chip        Compny SeaSalt175g</td>\n",
       "      <td>2</td>\n",
       "      <td>6.0</td>\n",
       "      <td>175</td>\n",
       "      <td>NATURAL</td>\n",
       "      <td>YOUNG SINGLES/COUPLES</td>\n",
       "      <td>Premium</td>\n",
       "      <td>201810</td>\n",
       "    </tr>\n",
       "    <tr>\n",
       "      <th>1</th>\n",
       "      <td>1002</td>\n",
       "      <td>2018-09-16</td>\n",
       "      <td>1</td>\n",
       "      <td>2</td>\n",
       "      <td>58</td>\n",
       "      <td>Red Rock Deli Chikn&amp;Garlic Aioli 150g</td>\n",
       "      <td>1</td>\n",
       "      <td>2.7</td>\n",
       "      <td>150</td>\n",
       "      <td>RRD</td>\n",
       "      <td>YOUNG SINGLES/COUPLES</td>\n",
       "      <td>Mainstream</td>\n",
       "      <td>201809</td>\n",
       "    </tr>\n",
       "    <tr>\n",
       "      <th>2</th>\n",
       "      <td>1003</td>\n",
       "      <td>2019-03-07</td>\n",
       "      <td>1</td>\n",
       "      <td>3</td>\n",
       "      <td>52</td>\n",
       "      <td>Grain Waves Sour    Cream&amp;Chives 210G</td>\n",
       "      <td>1</td>\n",
       "      <td>3.6</td>\n",
       "      <td>210</td>\n",
       "      <td>GRNWVES</td>\n",
       "      <td>YOUNG FAMILIES</td>\n",
       "      <td>Budget</td>\n",
       "      <td>201903</td>\n",
       "    </tr>\n",
       "  </tbody>\n",
       "</table>\n",
       "</div>"
      ],
      "text/plain": [
       "   LYLTY_CARD_NBR       DATE  STORE_NBR  TXN_ID  PROD_NBR  \\\n",
       "0            1000 2018-10-17          1       1         5   \n",
       "1            1002 2018-09-16          1       2        58   \n",
       "2            1003 2019-03-07          1       3        52   \n",
       "\n",
       "                                PROD_NAME  PROD_QTY  TOT_SALES  PACK_SIZE  \\\n",
       "0  Natural Chip        Compny SeaSalt175g         2        6.0        175   \n",
       "1   Red Rock Deli Chikn&Garlic Aioli 150g         1        2.7        150   \n",
       "2   Grain Waves Sour    Cream&Chives 210G         1        3.6        210   \n",
       "\n",
       "     BRAND              LIFESTAGE PREMIUM_CUSTOMER   MONTH  \n",
       "0  NATURAL  YOUNG SINGLES/COUPLES          Premium  201810  \n",
       "1      RRD  YOUNG SINGLES/COUPLES       Mainstream  201809  \n",
       "2  GRNWVES         YOUNG FAMILIES           Budget  201903  "
      ]
     },
     "execution_count": 6,
     "metadata": {},
     "output_type": "execute_result"
    }
   ],
   "source": [
    "data.head(3)"
   ]
  },
  {
   "cell_type": "markdown",
   "metadata": {},
   "source": [
    "#### 1. Measures over time for each store"
   ]
  },
  {
   "cell_type": "code",
   "execution_count": 7,
   "metadata": {},
   "outputs": [],
   "source": [
    "stores=data.groupby(['STORE_NBR', 'MONTH']).agg({'TOT_SALES':'sum','LYLTY_CARD_NBR':'nunique', 'PROD_QTY':'sum'})"
   ]
  },
  {
   "cell_type": "code",
   "execution_count": 8,
   "metadata": {},
   "outputs": [],
   "source": [
    "stores.rename(columns={'LYLTY_CARD_NBR':'TOT_CUST', 'PROD_QTY':'TOT_CHIP'}, inplace=True)"
   ]
  },
  {
   "cell_type": "code",
   "execution_count": 9,
   "metadata": {},
   "outputs": [],
   "source": [
    "stores['SALES_PER_CUST']=round(stores['TOT_SALES']/stores['TOT_CUST'],2)\n",
    "stores['CHIPS_PER_CUST']=round(stores['TOT_CHIP']/stores['TOT_CUST'],2)\n",
    "stores['AVG_PRICE_PER_UNIT']=round(stores['TOT_SALES']/stores['TOT_CHIP'],2)"
   ]
  },
  {
   "cell_type": "code",
   "execution_count": 10,
   "metadata": {},
   "outputs": [
    {
     "data": {
      "text/html": [
       "<div>\n",
       "<style scoped>\n",
       "    .dataframe tbody tr th:only-of-type {\n",
       "        vertical-align: middle;\n",
       "    }\n",
       "\n",
       "    .dataframe tbody tr th {\n",
       "        vertical-align: top;\n",
       "    }\n",
       "\n",
       "    .dataframe thead th {\n",
       "        text-align: right;\n",
       "    }\n",
       "</style>\n",
       "<table border=\"1\" class=\"dataframe\">\n",
       "  <thead>\n",
       "    <tr style=\"text-align: right;\">\n",
       "      <th></th>\n",
       "      <th></th>\n",
       "      <th>TOT_SALES</th>\n",
       "      <th>TOT_CUST</th>\n",
       "      <th>TOT_CHIP</th>\n",
       "      <th>SALES_PER_CUST</th>\n",
       "      <th>CHIPS_PER_CUST</th>\n",
       "      <th>AVG_PRICE_PER_UNIT</th>\n",
       "    </tr>\n",
       "    <tr>\n",
       "      <th>STORE_NBR</th>\n",
       "      <th>MONTH</th>\n",
       "      <th></th>\n",
       "      <th></th>\n",
       "      <th></th>\n",
       "      <th></th>\n",
       "      <th></th>\n",
       "      <th></th>\n",
       "    </tr>\n",
       "  </thead>\n",
       "  <tbody>\n",
       "    <tr>\n",
       "      <th rowspan=\"5\" valign=\"top\">1</th>\n",
       "      <th>201807</th>\n",
       "      <td>206.9</td>\n",
       "      <td>49</td>\n",
       "      <td>62</td>\n",
       "      <td>4.22</td>\n",
       "      <td>1.27</td>\n",
       "      <td>3.34</td>\n",
       "    </tr>\n",
       "    <tr>\n",
       "      <th>201808</th>\n",
       "      <td>176.1</td>\n",
       "      <td>42</td>\n",
       "      <td>54</td>\n",
       "      <td>4.19</td>\n",
       "      <td>1.29</td>\n",
       "      <td>3.26</td>\n",
       "    </tr>\n",
       "    <tr>\n",
       "      <th>201809</th>\n",
       "      <td>278.8</td>\n",
       "      <td>59</td>\n",
       "      <td>75</td>\n",
       "      <td>4.73</td>\n",
       "      <td>1.27</td>\n",
       "      <td>3.72</td>\n",
       "    </tr>\n",
       "    <tr>\n",
       "      <th>201810</th>\n",
       "      <td>188.1</td>\n",
       "      <td>44</td>\n",
       "      <td>58</td>\n",
       "      <td>4.27</td>\n",
       "      <td>1.32</td>\n",
       "      <td>3.24</td>\n",
       "    </tr>\n",
       "    <tr>\n",
       "      <th>201811</th>\n",
       "      <td>192.6</td>\n",
       "      <td>46</td>\n",
       "      <td>57</td>\n",
       "      <td>4.19</td>\n",
       "      <td>1.24</td>\n",
       "      <td>3.38</td>\n",
       "    </tr>\n",
       "  </tbody>\n",
       "</table>\n",
       "</div>"
      ],
      "text/plain": [
       "                  TOT_SALES  TOT_CUST  TOT_CHIP  SALES_PER_CUST  \\\n",
       "STORE_NBR MONTH                                                   \n",
       "1         201807      206.9        49        62            4.22   \n",
       "          201808      176.1        42        54            4.19   \n",
       "          201809      278.8        59        75            4.73   \n",
       "          201810      188.1        44        58            4.27   \n",
       "          201811      192.6        46        57            4.19   \n",
       "\n",
       "                  CHIPS_PER_CUST  AVG_PRICE_PER_UNIT  \n",
       "STORE_NBR MONTH                                       \n",
       "1         201807            1.27                3.34  \n",
       "          201808            1.29                3.26  \n",
       "          201809            1.27                3.72  \n",
       "          201810            1.32                3.24  \n",
       "          201811            1.24                3.38  "
      ]
     },
     "execution_count": 10,
     "metadata": {},
     "output_type": "execute_result"
    }
   ],
   "source": [
    "stores.head()"
   ]
  },
  {
   "cell_type": "markdown",
   "metadata": {},
   "source": [
    "#### 2. Creating a pre-trial dataframe"
   ]
  },
  {
   "cell_type": "code",
   "execution_count": 11,
   "metadata": {},
   "outputs": [
    {
     "data": {
      "text/html": [
       "<div>\n",
       "<style scoped>\n",
       "    .dataframe tbody tr th:only-of-type {\n",
       "        vertical-align: middle;\n",
       "    }\n",
       "\n",
       "    .dataframe tbody tr th {\n",
       "        vertical-align: top;\n",
       "    }\n",
       "\n",
       "    .dataframe thead th {\n",
       "        text-align: right;\n",
       "    }\n",
       "</style>\n",
       "<table border=\"1\" class=\"dataframe\">\n",
       "  <thead>\n",
       "    <tr style=\"text-align: right;\">\n",
       "      <th></th>\n",
       "      <th></th>\n",
       "      <th>TOT_SALES</th>\n",
       "      <th>TOT_CUST</th>\n",
       "      <th>TOT_CHIP</th>\n",
       "      <th>SALES_PER_CUST</th>\n",
       "      <th>CHIPS_PER_CUST</th>\n",
       "      <th>AVG_PRICE_PER_UNIT</th>\n",
       "    </tr>\n",
       "    <tr>\n",
       "      <th>STORE_NBR</th>\n",
       "      <th>MONTH</th>\n",
       "      <th></th>\n",
       "      <th></th>\n",
       "      <th></th>\n",
       "      <th></th>\n",
       "      <th></th>\n",
       "      <th></th>\n",
       "    </tr>\n",
       "  </thead>\n",
       "  <tbody>\n",
       "    <tr>\n",
       "      <th rowspan=\"5\" valign=\"top\">1</th>\n",
       "      <th>201807</th>\n",
       "      <td>206.9</td>\n",
       "      <td>49</td>\n",
       "      <td>62</td>\n",
       "      <td>4.22</td>\n",
       "      <td>1.27</td>\n",
       "      <td>3.34</td>\n",
       "    </tr>\n",
       "    <tr>\n",
       "      <th>201808</th>\n",
       "      <td>176.1</td>\n",
       "      <td>42</td>\n",
       "      <td>54</td>\n",
       "      <td>4.19</td>\n",
       "      <td>1.29</td>\n",
       "      <td>3.26</td>\n",
       "    </tr>\n",
       "    <tr>\n",
       "      <th>201809</th>\n",
       "      <td>278.8</td>\n",
       "      <td>59</td>\n",
       "      <td>75</td>\n",
       "      <td>4.73</td>\n",
       "      <td>1.27</td>\n",
       "      <td>3.72</td>\n",
       "    </tr>\n",
       "    <tr>\n",
       "      <th>201810</th>\n",
       "      <td>188.1</td>\n",
       "      <td>44</td>\n",
       "      <td>58</td>\n",
       "      <td>4.27</td>\n",
       "      <td>1.32</td>\n",
       "      <td>3.24</td>\n",
       "    </tr>\n",
       "    <tr>\n",
       "      <th>201811</th>\n",
       "      <td>192.6</td>\n",
       "      <td>46</td>\n",
       "      <td>57</td>\n",
       "      <td>4.19</td>\n",
       "      <td>1.24</td>\n",
       "      <td>3.38</td>\n",
       "    </tr>\n",
       "  </tbody>\n",
       "</table>\n",
       "</div>"
      ],
      "text/plain": [
       "                  TOT_SALES  TOT_CUST  TOT_CHIP  SALES_PER_CUST  \\\n",
       "STORE_NBR MONTH                                                   \n",
       "1         201807      206.9        49        62            4.22   \n",
       "          201808      176.1        42        54            4.19   \n",
       "          201809      278.8        59        75            4.73   \n",
       "          201810      188.1        44        58            4.27   \n",
       "          201811      192.6        46        57            4.19   \n",
       "\n",
       "                  CHIPS_PER_CUST  AVG_PRICE_PER_UNIT  \n",
       "STORE_NBR MONTH                                       \n",
       "1         201807            1.27                3.34  \n",
       "          201808            1.29                3.26  \n",
       "          201809            1.27                3.72  \n",
       "          201810            1.32                3.24  \n",
       "          201811            1.24                3.38  "
      ]
     },
     "execution_count": 11,
     "metadata": {},
     "output_type": "execute_result"
    }
   ],
   "source": [
    "# Selecting before 2019-02\n",
    "pre_trial=stores[stores.index.get_level_values('MONTH')<201902]\n",
    "pre_trial.head()"
   ]
  },
  {
   "cell_type": "markdown",
   "metadata": {},
   "source": [
    "#### 3. Creating trial dataframe"
   ]
  },
  {
   "cell_type": "code",
   "execution_count": 12,
   "metadata": {},
   "outputs": [
    {
     "data": {
      "text/html": [
       "<div>\n",
       "<style scoped>\n",
       "    .dataframe tbody tr th:only-of-type {\n",
       "        vertical-align: middle;\n",
       "    }\n",
       "\n",
       "    .dataframe tbody tr th {\n",
       "        vertical-align: top;\n",
       "    }\n",
       "\n",
       "    .dataframe thead th {\n",
       "        text-align: right;\n",
       "    }\n",
       "</style>\n",
       "<table border=\"1\" class=\"dataframe\">\n",
       "  <thead>\n",
       "    <tr style=\"text-align: right;\">\n",
       "      <th></th>\n",
       "      <th></th>\n",
       "      <th>TOT_SALES</th>\n",
       "      <th>TOT_CUST</th>\n",
       "      <th>TOT_CHIP</th>\n",
       "      <th>SALES_PER_CUST</th>\n",
       "      <th>CHIPS_PER_CUST</th>\n",
       "      <th>AVG_PRICE_PER_UNIT</th>\n",
       "    </tr>\n",
       "    <tr>\n",
       "      <th>STORE_NBR</th>\n",
       "      <th>MONTH</th>\n",
       "      <th></th>\n",
       "      <th></th>\n",
       "      <th></th>\n",
       "      <th></th>\n",
       "      <th></th>\n",
       "      <th></th>\n",
       "    </tr>\n",
       "  </thead>\n",
       "  <tbody>\n",
       "    <tr>\n",
       "      <th rowspan=\"5\" valign=\"top\">77</th>\n",
       "      <th>201807</th>\n",
       "      <td>296.8</td>\n",
       "      <td>51</td>\n",
       "      <td>84</td>\n",
       "      <td>5.82</td>\n",
       "      <td>1.65</td>\n",
       "      <td>3.53</td>\n",
       "    </tr>\n",
       "    <tr>\n",
       "      <th>201808</th>\n",
       "      <td>255.5</td>\n",
       "      <td>47</td>\n",
       "      <td>74</td>\n",
       "      <td>5.44</td>\n",
       "      <td>1.57</td>\n",
       "      <td>3.45</td>\n",
       "    </tr>\n",
       "    <tr>\n",
       "      <th>201809</th>\n",
       "      <td>225.2</td>\n",
       "      <td>42</td>\n",
       "      <td>70</td>\n",
       "      <td>5.36</td>\n",
       "      <td>1.67</td>\n",
       "      <td>3.22</td>\n",
       "    </tr>\n",
       "    <tr>\n",
       "      <th>201810</th>\n",
       "      <td>204.5</td>\n",
       "      <td>37</td>\n",
       "      <td>52</td>\n",
       "      <td>5.53</td>\n",
       "      <td>1.41</td>\n",
       "      <td>3.93</td>\n",
       "    </tr>\n",
       "    <tr>\n",
       "      <th>201811</th>\n",
       "      <td>245.3</td>\n",
       "      <td>41</td>\n",
       "      <td>67</td>\n",
       "      <td>5.98</td>\n",
       "      <td>1.63</td>\n",
       "      <td>3.66</td>\n",
       "    </tr>\n",
       "  </tbody>\n",
       "</table>\n",
       "</div>"
      ],
      "text/plain": [
       "                  TOT_SALES  TOT_CUST  TOT_CHIP  SALES_PER_CUST  \\\n",
       "STORE_NBR MONTH                                                   \n",
       "77        201807      296.8        51        84            5.82   \n",
       "          201808      255.5        47        74            5.44   \n",
       "          201809      225.2        42        70            5.36   \n",
       "          201810      204.5        37        52            5.53   \n",
       "          201811      245.3        41        67            5.98   \n",
       "\n",
       "                  CHIPS_PER_CUST  AVG_PRICE_PER_UNIT  \n",
       "STORE_NBR MONTH                                       \n",
       "77        201807            1.65                3.53  \n",
       "          201808            1.57                3.45  \n",
       "          201809            1.67                3.22  \n",
       "          201810            1.41                3.93  \n",
       "          201811            1.63                3.66  "
      ]
     },
     "execution_count": 12,
     "metadata": {},
     "output_type": "execute_result"
    }
   ],
   "source": [
    "trials=pre_trial.loc[[77,86,88]]\n",
    "trials.head()"
   ]
  },
  {
   "cell_type": "markdown",
   "metadata": {},
   "source": [
    "#### 4. Droping Trial stores from pre_trial dataset"
   ]
  },
  {
   "cell_type": "code",
   "execution_count": 13,
   "metadata": {},
   "outputs": [
    {
     "data": {
      "text/html": [
       "<div>\n",
       "<style scoped>\n",
       "    .dataframe tbody tr th:only-of-type {\n",
       "        vertical-align: middle;\n",
       "    }\n",
       "\n",
       "    .dataframe tbody tr th {\n",
       "        vertical-align: top;\n",
       "    }\n",
       "\n",
       "    .dataframe thead th {\n",
       "        text-align: right;\n",
       "    }\n",
       "</style>\n",
       "<table border=\"1\" class=\"dataframe\">\n",
       "  <thead>\n",
       "    <tr style=\"text-align: right;\">\n",
       "      <th></th>\n",
       "      <th></th>\n",
       "      <th>TOT_SALES</th>\n",
       "      <th>TOT_CUST</th>\n",
       "      <th>TOT_CHIP</th>\n",
       "      <th>SALES_PER_CUST</th>\n",
       "      <th>CHIPS_PER_CUST</th>\n",
       "      <th>AVG_PRICE_PER_UNIT</th>\n",
       "    </tr>\n",
       "    <tr>\n",
       "      <th>STORE_NBR</th>\n",
       "      <th>MONTH</th>\n",
       "      <th></th>\n",
       "      <th></th>\n",
       "      <th></th>\n",
       "      <th></th>\n",
       "      <th></th>\n",
       "      <th></th>\n",
       "    </tr>\n",
       "  </thead>\n",
       "  <tbody>\n",
       "    <tr>\n",
       "      <th rowspan=\"5\" valign=\"top\">1</th>\n",
       "      <th>201807</th>\n",
       "      <td>206.9</td>\n",
       "      <td>49</td>\n",
       "      <td>62</td>\n",
       "      <td>4.22</td>\n",
       "      <td>1.27</td>\n",
       "      <td>3.34</td>\n",
       "    </tr>\n",
       "    <tr>\n",
       "      <th>201808</th>\n",
       "      <td>176.1</td>\n",
       "      <td>42</td>\n",
       "      <td>54</td>\n",
       "      <td>4.19</td>\n",
       "      <td>1.29</td>\n",
       "      <td>3.26</td>\n",
       "    </tr>\n",
       "    <tr>\n",
       "      <th>201809</th>\n",
       "      <td>278.8</td>\n",
       "      <td>59</td>\n",
       "      <td>75</td>\n",
       "      <td>4.73</td>\n",
       "      <td>1.27</td>\n",
       "      <td>3.72</td>\n",
       "    </tr>\n",
       "    <tr>\n",
       "      <th>201810</th>\n",
       "      <td>188.1</td>\n",
       "      <td>44</td>\n",
       "      <td>58</td>\n",
       "      <td>4.27</td>\n",
       "      <td>1.32</td>\n",
       "      <td>3.24</td>\n",
       "    </tr>\n",
       "    <tr>\n",
       "      <th>201811</th>\n",
       "      <td>192.6</td>\n",
       "      <td>46</td>\n",
       "      <td>57</td>\n",
       "      <td>4.19</td>\n",
       "      <td>1.24</td>\n",
       "      <td>3.38</td>\n",
       "    </tr>\n",
       "  </tbody>\n",
       "</table>\n",
       "</div>"
      ],
      "text/plain": [
       "                  TOT_SALES  TOT_CUST  TOT_CHIP  SALES_PER_CUST  \\\n",
       "STORE_NBR MONTH                                                   \n",
       "1         201807      206.9        49        62            4.22   \n",
       "          201808      176.1        42        54            4.19   \n",
       "          201809      278.8        59        75            4.73   \n",
       "          201810      188.1        44        58            4.27   \n",
       "          201811      192.6        46        57            4.19   \n",
       "\n",
       "                  CHIPS_PER_CUST  AVG_PRICE_PER_UNIT  \n",
       "STORE_NBR MONTH                                       \n",
       "1         201807            1.27                3.34  \n",
       "          201808            1.29                3.26  \n",
       "          201809            1.27                3.72  \n",
       "          201810            1.32                3.24  \n",
       "          201811            1.24                3.38  "
      ]
     },
     "execution_count": 13,
     "metadata": {},
     "output_type": "execute_result"
    }
   ],
   "source": [
    "pre_trial_nocontrol=pre_trial.drop([77,86,88])\n",
    "pre_trial_nocontrol.head()"
   ]
  },
  {
   "cell_type": "markdown",
   "metadata": {},
   "source": [
    "#### 5. Creating the pro_trial dataframe"
   ]
  },
  {
   "cell_type": "code",
   "execution_count": 14,
   "metadata": {},
   "outputs": [
    {
     "data": {
      "text/html": [
       "<div>\n",
       "<style scoped>\n",
       "    .dataframe tbody tr th:only-of-type {\n",
       "        vertical-align: middle;\n",
       "    }\n",
       "\n",
       "    .dataframe tbody tr th {\n",
       "        vertical-align: top;\n",
       "    }\n",
       "\n",
       "    .dataframe thead th {\n",
       "        text-align: right;\n",
       "    }\n",
       "</style>\n",
       "<table border=\"1\" class=\"dataframe\">\n",
       "  <thead>\n",
       "    <tr style=\"text-align: right;\">\n",
       "      <th></th>\n",
       "      <th></th>\n",
       "      <th>TOT_SALES</th>\n",
       "      <th>TOT_CUST</th>\n",
       "      <th>TOT_CHIP</th>\n",
       "      <th>SALES_PER_CUST</th>\n",
       "      <th>CHIPS_PER_CUST</th>\n",
       "      <th>AVG_PRICE_PER_UNIT</th>\n",
       "    </tr>\n",
       "    <tr>\n",
       "      <th>STORE_NBR</th>\n",
       "      <th>MONTH</th>\n",
       "      <th></th>\n",
       "      <th></th>\n",
       "      <th></th>\n",
       "      <th></th>\n",
       "      <th></th>\n",
       "      <th></th>\n",
       "    </tr>\n",
       "  </thead>\n",
       "  <tbody>\n",
       "    <tr>\n",
       "      <th rowspan=\"2\" valign=\"top\">1</th>\n",
       "      <th>201905</th>\n",
       "      <td>221.4</td>\n",
       "      <td>46</td>\n",
       "      <td>66</td>\n",
       "      <td>4.81</td>\n",
       "      <td>1.43</td>\n",
       "      <td>3.35</td>\n",
       "    </tr>\n",
       "    <tr>\n",
       "      <th>201906</th>\n",
       "      <td>174.1</td>\n",
       "      <td>42</td>\n",
       "      <td>53</td>\n",
       "      <td>4.15</td>\n",
       "      <td>1.26</td>\n",
       "      <td>3.28</td>\n",
       "    </tr>\n",
       "    <tr>\n",
       "      <th rowspan=\"2\" valign=\"top\">2</th>\n",
       "      <th>201905</th>\n",
       "      <td>192.7</td>\n",
       "      <td>48</td>\n",
       "      <td>56</td>\n",
       "      <td>4.01</td>\n",
       "      <td>1.17</td>\n",
       "      <td>3.44</td>\n",
       "    </tr>\n",
       "    <tr>\n",
       "      <th>201906</th>\n",
       "      <td>156.6</td>\n",
       "      <td>40</td>\n",
       "      <td>44</td>\n",
       "      <td>3.92</td>\n",
       "      <td>1.10</td>\n",
       "      <td>3.56</td>\n",
       "    </tr>\n",
       "    <tr>\n",
       "      <th>3</th>\n",
       "      <th>201905</th>\n",
       "      <td>996.9</td>\n",
       "      <td>108</td>\n",
       "      <td>234</td>\n",
       "      <td>9.23</td>\n",
       "      <td>2.17</td>\n",
       "      <td>4.26</td>\n",
       "    </tr>\n",
       "  </tbody>\n",
       "</table>\n",
       "</div>"
      ],
      "text/plain": [
       "                  TOT_SALES  TOT_CUST  TOT_CHIP  SALES_PER_CUST  \\\n",
       "STORE_NBR MONTH                                                   \n",
       "1         201905      221.4        46        66            4.81   \n",
       "          201906      174.1        42        53            4.15   \n",
       "2         201905      192.7        48        56            4.01   \n",
       "          201906      156.6        40        44            3.92   \n",
       "3         201905      996.9       108       234            9.23   \n",
       "\n",
       "                  CHIPS_PER_CUST  AVG_PRICE_PER_UNIT  \n",
       "STORE_NBR MONTH                                       \n",
       "1         201905            1.43                3.35  \n",
       "          201906            1.26                3.28  \n",
       "2         201905            1.17                3.44  \n",
       "          201906            1.10                3.56  \n",
       "3         201905            2.17                4.26  "
      ]
     },
     "execution_count": 14,
     "metadata": {},
     "output_type": "execute_result"
    }
   ],
   "source": [
    "# creating dataframe after 2019-04\n",
    "pro_trial=stores[stores.index.get_level_values('MONTH')>201904]\n",
    "pro_trial.head()"
   ]
  },
  {
   "cell_type": "markdown",
   "metadata": {},
   "source": [
    "#### 6. Creating functions for correlation tables and standardization tables for trial stores to the control store"
   ]
  },
  {
   "cell_type": "code",
   "execution_count": 15,
   "metadata": {},
   "outputs": [],
   "source": [
    "# Function to find the correlation\n",
    "def corlx(store, trial_period):\n",
    "    list1=[]\n",
    "    features=trial_period[['TOT_SALES','TOT_CUST']]\n",
    "    for i in features.index:\n",
    "        list1.append(features.loc[store].corrwith(features.loc[i[0]]))\n",
    "    correlations=pd.DataFrame(list1)\n",
    "    correlations.index=features.index\n",
    "    correlations=correlations.drop_duplicates()\n",
    "    correlations.index.name='STORE_NBR'\n",
    "    return correlations"
   ]
  },
  {
   "cell_type": "code",
   "execution_count": 16,
   "metadata": {},
   "outputs": [],
   "source": [
    "# Function to find the standardization\n",
    "def strdx(data):\n",
    "    data=data.abs()\n",
    "    data['MAGN']=data.mean(axis=1)\n",
    "    return data"
   ]
  },
  {
   "cell_type": "code",
   "execution_count": 17,
   "metadata": {},
   "outputs": [],
   "source": [
    "# Function to find stores more correlated\n",
    "def findcorlx(store, trial_period):\n",
    "    corl=corlx(store, trial_period)\n",
    "    corl=strdx(corl)\n",
    "    corl=corl.sort_values(['MAGN'], ascending=False).dropna()\n",
    "    return corl"
   ]
  },
  {
   "cell_type": "markdown",
   "metadata": {},
   "source": [
    "#### 7. Correlated stores to the control store number 77"
   ]
  },
  {
   "cell_type": "code",
   "execution_count": 18,
   "metadata": {},
   "outputs": [
    {
     "data": {
      "text/html": [
       "<div>\n",
       "<style scoped>\n",
       "    .dataframe tbody tr th:only-of-type {\n",
       "        vertical-align: middle;\n",
       "    }\n",
       "\n",
       "    .dataframe tbody tr th {\n",
       "        vertical-align: top;\n",
       "    }\n",
       "\n",
       "    .dataframe thead th {\n",
       "        text-align: right;\n",
       "    }\n",
       "</style>\n",
       "<table border=\"1\" class=\"dataframe\">\n",
       "  <thead>\n",
       "    <tr style=\"text-align: right;\">\n",
       "      <th></th>\n",
       "      <th></th>\n",
       "      <th>TOT_SALES</th>\n",
       "      <th>TOT_CUST</th>\n",
       "      <th>MAGN</th>\n",
       "    </tr>\n",
       "    <tr>\n",
       "      <th>STORE_NBR</th>\n",
       "      <th>MONTH</th>\n",
       "      <th></th>\n",
       "      <th></th>\n",
       "      <th></th>\n",
       "    </tr>\n",
       "  </thead>\n",
       "  <tbody>\n",
       "    <tr>\n",
       "      <th>77</th>\n",
       "      <th>201807</th>\n",
       "      <td>1.000000</td>\n",
       "      <td>1.000000</td>\n",
       "      <td>1.000000</td>\n",
       "    </tr>\n",
       "    <tr>\n",
       "      <th>233</th>\n",
       "      <th>201807</th>\n",
       "      <td>0.903774</td>\n",
       "      <td>0.990358</td>\n",
       "      <td>0.947066</td>\n",
       "    </tr>\n",
       "    <tr>\n",
       "      <th>119</th>\n",
       "      <th>201807</th>\n",
       "      <td>0.867664</td>\n",
       "      <td>0.983267</td>\n",
       "      <td>0.925466</td>\n",
       "    </tr>\n",
       "    <tr>\n",
       "      <th>71</th>\n",
       "      <th>201807</th>\n",
       "      <td>0.914106</td>\n",
       "      <td>0.754817</td>\n",
       "      <td>0.834461</td>\n",
       "    </tr>\n",
       "    <tr>\n",
       "      <th>3</th>\n",
       "      <th>201807</th>\n",
       "      <td>0.806644</td>\n",
       "      <td>0.834207</td>\n",
       "      <td>0.820426</td>\n",
       "    </tr>\n",
       "    <tr>\n",
       "      <th>...</th>\n",
       "      <th>...</th>\n",
       "      <td>...</td>\n",
       "      <td>...</td>\n",
       "      <td>...</td>\n",
       "    </tr>\n",
       "    <tr>\n",
       "      <th>256</th>\n",
       "      <th>201807</th>\n",
       "      <td>0.014245</td>\n",
       "      <td>0.047863</td>\n",
       "      <td>0.031054</td>\n",
       "    </tr>\n",
       "    <tr>\n",
       "      <th>159</th>\n",
       "      <th>201807</th>\n",
       "      <td>0.001655</td>\n",
       "      <td>0.054404</td>\n",
       "      <td>0.028030</td>\n",
       "    </tr>\n",
       "    <tr>\n",
       "      <th>260</th>\n",
       "      <th>201807</th>\n",
       "      <td>0.016618</td>\n",
       "      <td>0.027446</td>\n",
       "      <td>0.022032</td>\n",
       "    </tr>\n",
       "    <tr>\n",
       "      <th>194</th>\n",
       "      <th>201807</th>\n",
       "      <td>0.010182</td>\n",
       "      <td>0.032053</td>\n",
       "      <td>0.021117</td>\n",
       "    </tr>\n",
       "    <tr>\n",
       "      <th>166</th>\n",
       "      <th>201807</th>\n",
       "      <td>0.005875</td>\n",
       "      <td>0.012896</td>\n",
       "      <td>0.009386</td>\n",
       "    </tr>\n",
       "  </tbody>\n",
       "</table>\n",
       "<p>263 rows × 3 columns</p>\n",
       "</div>"
      ],
      "text/plain": [
       "                  TOT_SALES  TOT_CUST      MAGN\n",
       "STORE_NBR MONTH                                \n",
       "77        201807   1.000000  1.000000  1.000000\n",
       "233       201807   0.903774  0.990358  0.947066\n",
       "119       201807   0.867664  0.983267  0.925466\n",
       "71        201807   0.914106  0.754817  0.834461\n",
       "3         201807   0.806644  0.834207  0.820426\n",
       "...                     ...       ...       ...\n",
       "256       201807   0.014245  0.047863  0.031054\n",
       "159       201807   0.001655  0.054404  0.028030\n",
       "260       201807   0.016618  0.027446  0.022032\n",
       "194       201807   0.010182  0.032053  0.021117\n",
       "166       201807   0.005875  0.012896  0.009386\n",
       "\n",
       "[263 rows x 3 columns]"
      ]
     },
     "execution_count": 18,
     "metadata": {},
     "output_type": "execute_result"
    }
   ],
   "source": [
    "corlx77=findcorlx(77,pre_trial)\n",
    "corlx77"
   ]
  },
  {
   "cell_type": "markdown",
   "metadata": {},
   "source": [
    "**Stores 233,119,71** are the most correlated stores to store 77 so I choose store 233 to be the trial store"
   ]
  },
  {
   "cell_type": "code",
   "execution_count": 19,
   "metadata": {},
   "outputs": [],
   "source": [
    "def viz_sales(control,trial, column, trial_period):\n",
    "    sns.kdeplot(trial_period.loc[control][column])\n",
    "    sns.kdeplot(trial_period.loc[trial][column])\n",
    "    plt.title(trial)\n",
    "    plt.legend(labels=[control,trial])"
   ]
  },
  {
   "cell_type": "code",
   "execution_count": 20,
   "metadata": {},
   "outputs": [
    {
     "data": {
      "image/png": "[encoded data removed]",
      "text/plain": [
       "<Figure size 432x288 with 1 Axes>"
      ]
     },
     "metadata": {
      "needs_background": "light"
     },
     "output_type": "display_data"
    }
   ],
   "source": [
    "viz_sales(77,233, 'TOT_SALES', pre_trial)"
   ]
  },
  {
   "cell_type": "code",
   "execution_count": 21,
   "metadata": {},
   "outputs": [
    {
     "data": {
      "image/png": "[encoded data removed]",
      "text/plain": [
       "<Figure size 432x288 with 1 Axes>"
      ]
     },
     "metadata": {
      "needs_background": "light"
     },
     "output_type": "display_data"
    }
   ],
   "source": [
    "viz_sales(77,233,'TOT_CUST', pre_trial)"
   ]
  },
  {
   "cell_type": "markdown",
   "metadata": {},
   "source": [
    "**I will choose store 233**"
   ]
  },
  {
   "cell_type": "markdown",
   "metadata": {},
   "source": [
    "#### 8. Assessment of Trial store 233 and 77 (T-test for trial store and control store)"
   ]
  },
  {
   "cell_type": "markdown",
   "metadata": {},
   "source": [
    "Null Hypothesis= the means are not significanlty different"
   ]
  },
  {
   "cell_type": "code",
   "execution_count": 22,
   "metadata": {},
   "outputs": [
    {
     "data": {
      "text/html": [
       "<div>\n",
       "<style scoped>\n",
       "    .dataframe tbody tr th:only-of-type {\n",
       "        vertical-align: middle;\n",
       "    }\n",
       "\n",
       "    .dataframe tbody tr th {\n",
       "        vertical-align: top;\n",
       "    }\n",
       "\n",
       "    .dataframe thead th {\n",
       "        text-align: right;\n",
       "    }\n",
       "</style>\n",
       "<table border=\"1\" class=\"dataframe\">\n",
       "  <thead>\n",
       "    <tr style=\"text-align: right;\">\n",
       "      <th></th>\n",
       "      <th>t-statistic</th>\n",
       "      <th>pvalue</th>\n",
       "    </tr>\n",
       "  </thead>\n",
       "  <tbody>\n",
       "    <tr>\n",
       "      <th>TOT_SALES</th>\n",
       "      <td>-0.010924</td>\n",
       "      <td>0.992276</td>\n",
       "    </tr>\n",
       "    <tr>\n",
       "      <th>TOT_CUST</th>\n",
       "      <td>-0.094072</td>\n",
       "      <td>0.933628</td>\n",
       "    </tr>\n",
       "    <tr>\n",
       "      <th>TOT_CHIP</th>\n",
       "      <td>0.029399</td>\n",
       "      <td>0.979216</td>\n",
       "    </tr>\n",
       "    <tr>\n",
       "      <th>SALES_PER_CUST</th>\n",
       "      <td>0.388589</td>\n",
       "      <td>0.735046</td>\n",
       "    </tr>\n",
       "    <tr>\n",
       "      <th>CHIPS_PER_CUST</th>\n",
       "      <td>0.647150</td>\n",
       "      <td>0.583893</td>\n",
       "    </tr>\n",
       "    <tr>\n",
       "      <th>AVG_PRICE_PER_UNIT</th>\n",
       "      <td>-0.079809</td>\n",
       "      <td>0.943656</td>\n",
       "    </tr>\n",
       "  </tbody>\n",
       "</table>\n",
       "</div>"
      ],
      "text/plain": [
       "                    t-statistic    pvalue\n",
       "TOT_SALES             -0.010924  0.992276\n",
       "TOT_CUST              -0.094072  0.933628\n",
       "TOT_CHIP               0.029399  0.979216\n",
       "SALES_PER_CUST         0.388589  0.735046\n",
       "CHIPS_PER_CUST         0.647150  0.583893\n",
       "AVG_PRICE_PER_UNIT    -0.079809  0.943656"
      ]
     },
     "execution_count": 22,
     "metadata": {},
     "output_type": "execute_result"
    }
   ],
   "source": [
    "assessment1=pd.DataFrame(ttest_ind(pro_trial.loc[77], pro_trial.loc[233])).T\n",
    "assessment1.columns=['t-statistic','pvalue']\n",
    "assessment1.index=pro_trial.columns\n",
    "assessment1"
   ]
  },
  {
   "cell_type": "markdown",
   "metadata": {},
   "source": [
    "we then reject the null hypothesis for the p-values are greater than 0.05"
   ]
  },
  {
   "cell_type": "markdown",
   "metadata": {},
   "source": [
    "#### 9. Vizualizing the pro_trial period for 77 and 138"
   ]
  },
  {
   "cell_type": "code",
   "execution_count": 23,
   "metadata": {},
   "outputs": [
    {
     "data": {
      "image/png": "[encoded data removed]",
      "text/plain": [
       "<Figure size 432x288 with 1 Axes>"
      ]
     },
     "metadata": {
      "needs_background": "light"
     },
     "output_type": "display_data"
    }
   ],
   "source": [
    "viz_sales(77,233,'TOT_SALES',pro_trial)"
   ]
  },
  {
   "cell_type": "code",
   "execution_count": 24,
   "metadata": {},
   "outputs": [
    {
     "data": {
      "image/png": "[encoded data removed]",
      "text/plain": [
       "<Figure size 432x288 with 1 Axes>"
      ]
     },
     "metadata": {
      "needs_background": "light"
     },
     "output_type": "display_data"
    }
   ],
   "source": [
    "viz_sales(77,233,'TOT_CUST', pro_trial)"
   ]
  },
  {
   "cell_type": "markdown",
   "metadata": {},
   "source": [
    "According to the results store 77 is different with store 233"
   ]
  },
  {
   "cell_type": "markdown",
   "metadata": {},
   "source": [
    "#### 10. Correlated Stores and assessment for the control store number 86"
   ]
  },
  {
   "cell_type": "code",
   "execution_count": 25,
   "metadata": {},
   "outputs": [
    {
     "data": {
      "text/html": [
       "<div>\n",
       "<style scoped>\n",
       "    .dataframe tbody tr th:only-of-type {\n",
       "        vertical-align: middle;\n",
       "    }\n",
       "\n",
       "    .dataframe tbody tr th {\n",
       "        vertical-align: top;\n",
       "    }\n",
       "\n",
       "    .dataframe thead th {\n",
       "        text-align: right;\n",
       "    }\n",
       "</style>\n",
       "<table border=\"1\" class=\"dataframe\">\n",
       "  <thead>\n",
       "    <tr style=\"text-align: right;\">\n",
       "      <th></th>\n",
       "      <th></th>\n",
       "      <th>TOT_SALES</th>\n",
       "      <th>TOT_CUST</th>\n",
       "      <th>MAGN</th>\n",
       "    </tr>\n",
       "    <tr>\n",
       "      <th>STORE_NBR</th>\n",
       "      <th>MONTH</th>\n",
       "      <th></th>\n",
       "      <th></th>\n",
       "      <th></th>\n",
       "    </tr>\n",
       "  </thead>\n",
       "  <tbody>\n",
       "    <tr>\n",
       "      <th>86</th>\n",
       "      <th>201807</th>\n",
       "      <td>1.000000</td>\n",
       "      <td>1.000000</td>\n",
       "      <td>1.000000</td>\n",
       "    </tr>\n",
       "    <tr>\n",
       "      <th>155</th>\n",
       "      <th>201807</th>\n",
       "      <td>0.877882</td>\n",
       "      <td>0.942876</td>\n",
       "      <td>0.910379</td>\n",
       "    </tr>\n",
       "    <tr>\n",
       "      <th>23</th>\n",
       "      <th>201807</th>\n",
       "      <td>0.784698</td>\n",
       "      <td>0.943559</td>\n",
       "      <td>0.864128</td>\n",
       "    </tr>\n",
       "    <tr>\n",
       "      <th>120</th>\n",
       "      <th>201807</th>\n",
       "      <td>0.872693</td>\n",
       "      <td>0.815097</td>\n",
       "      <td>0.843895</td>\n",
       "    </tr>\n",
       "    <tr>\n",
       "      <th>114</th>\n",
       "      <th>201807</th>\n",
       "      <td>0.734415</td>\n",
       "      <td>0.855339</td>\n",
       "      <td>0.794877</td>\n",
       "    </tr>\n",
       "    <tr>\n",
       "      <th>...</th>\n",
       "      <th>...</th>\n",
       "      <td>...</td>\n",
       "      <td>...</td>\n",
       "      <td>...</td>\n",
       "    </tr>\n",
       "    <tr>\n",
       "      <th>91</th>\n",
       "      <th>201807</th>\n",
       "      <td>0.019027</td>\n",
       "      <td>0.041271</td>\n",
       "      <td>0.030149</td>\n",
       "    </tr>\n",
       "    <tr>\n",
       "      <th>17</th>\n",
       "      <th>201807</th>\n",
       "      <td>0.029793</td>\n",
       "      <td>0.030039</td>\n",
       "      <td>0.029916</td>\n",
       "    </tr>\n",
       "    <tr>\n",
       "      <th>131</th>\n",
       "      <th>201807</th>\n",
       "      <td>0.028487</td>\n",
       "      <td>0.031142</td>\n",
       "      <td>0.029815</td>\n",
       "    </tr>\n",
       "    <tr>\n",
       "      <th>219</th>\n",
       "      <th>201807</th>\n",
       "      <td>0.046653</td>\n",
       "      <td>0.004999</td>\n",
       "      <td>0.025826</td>\n",
       "    </tr>\n",
       "    <tr>\n",
       "      <th>234</th>\n",
       "      <th>201807</th>\n",
       "      <td>0.010509</td>\n",
       "      <td>0.040306</td>\n",
       "      <td>0.025407</td>\n",
       "    </tr>\n",
       "  </tbody>\n",
       "</table>\n",
       "<p>263 rows × 3 columns</p>\n",
       "</div>"
      ],
      "text/plain": [
       "                  TOT_SALES  TOT_CUST      MAGN\n",
       "STORE_NBR MONTH                                \n",
       "86        201807   1.000000  1.000000  1.000000\n",
       "155       201807   0.877882  0.942876  0.910379\n",
       "23        201807   0.784698  0.943559  0.864128\n",
       "120       201807   0.872693  0.815097  0.843895\n",
       "114       201807   0.734415  0.855339  0.794877\n",
       "...                     ...       ...       ...\n",
       "91        201807   0.019027  0.041271  0.030149\n",
       "17        201807   0.029793  0.030039  0.029916\n",
       "131       201807   0.028487  0.031142  0.029815\n",
       "219       201807   0.046653  0.004999  0.025826\n",
       "234       201807   0.010509  0.040306  0.025407\n",
       "\n",
       "[263 rows x 3 columns]"
      ]
     },
     "execution_count": 25,
     "metadata": {},
     "output_type": "execute_result"
    }
   ],
   "source": [
    "corlx86=findcorlx(86,pre_trial)\n",
    "corlx86"
   ]
  },
  {
   "cell_type": "markdown",
   "metadata": {},
   "source": [
    "I choose store 155"
   ]
  },
  {
   "cell_type": "code",
   "execution_count": 26,
   "metadata": {},
   "outputs": [
    {
     "data": {
      "image/png": "[encoded data removed]",
      "text/plain": [
       "<Figure size 432x288 with 1 Axes>"
      ]
     },
     "metadata": {
      "needs_background": "light"
     },
     "output_type": "display_data"
    }
   ],
   "source": [
    "viz_sales(86,155, 'TOT_SALES', pre_trial)"
   ]
  },
  {
   "cell_type": "code",
   "execution_count": 27,
   "metadata": {},
   "outputs": [
    {
     "data": {
      "image/png": "[encoded data removed]",
      "text/plain": [
       "<Figure size 432x288 with 1 Axes>"
      ]
     },
     "metadata": {
      "needs_background": "light"
     },
     "output_type": "display_data"
    }
   ],
   "source": [
    "viz_sales(86,155, 'TOT_CUST', pre_trial)"
   ]
  },
  {
   "cell_type": "code",
   "execution_count": 28,
   "metadata": {},
   "outputs": [
    {
     "data": {
      "text/html": [
       "<div>\n",
       "<style scoped>\n",
       "    .dataframe tbody tr th:only-of-type {\n",
       "        vertical-align: middle;\n",
       "    }\n",
       "\n",
       "    .dataframe tbody tr th {\n",
       "        vertical-align: top;\n",
       "    }\n",
       "\n",
       "    .dataframe thead th {\n",
       "        text-align: right;\n",
       "    }\n",
       "</style>\n",
       "<table border=\"1\" class=\"dataframe\">\n",
       "  <thead>\n",
       "    <tr style=\"text-align: right;\">\n",
       "      <th></th>\n",
       "      <th>t-statistic</th>\n",
       "      <th>pvalue</th>\n",
       "    </tr>\n",
       "  </thead>\n",
       "  <tbody>\n",
       "    <tr>\n",
       "      <th>TOT_SALES</th>\n",
       "      <td>-0.633129</td>\n",
       "      <td>0.591389</td>\n",
       "    </tr>\n",
       "    <tr>\n",
       "      <th>TOT_CUST</th>\n",
       "      <td>0.079809</td>\n",
       "      <td>0.943656</td>\n",
       "    </tr>\n",
       "    <tr>\n",
       "      <th>TOT_CHIP</th>\n",
       "      <td>-0.404061</td>\n",
       "      <td>0.725279</td>\n",
       "    </tr>\n",
       "    <tr>\n",
       "      <th>SALES_PER_CUST</th>\n",
       "      <td>-2.032258</td>\n",
       "      <td>0.179184</td>\n",
       "    </tr>\n",
       "    <tr>\n",
       "      <th>CHIPS_PER_CUST</th>\n",
       "      <td>-1.626978</td>\n",
       "      <td>0.245268</td>\n",
       "    </tr>\n",
       "    <tr>\n",
       "      <th>AVG_PRICE_PER_UNIT</th>\n",
       "      <td>-0.421637</td>\n",
       "      <td>0.714286</td>\n",
       "    </tr>\n",
       "  </tbody>\n",
       "</table>\n",
       "</div>"
      ],
      "text/plain": [
       "                    t-statistic    pvalue\n",
       "TOT_SALES             -0.633129  0.591389\n",
       "TOT_CUST               0.079809  0.943656\n",
       "TOT_CHIP              -0.404061  0.725279\n",
       "SALES_PER_CUST        -2.032258  0.179184\n",
       "CHIPS_PER_CUST        -1.626978  0.245268\n",
       "AVG_PRICE_PER_UNIT    -0.421637  0.714286"
      ]
     },
     "execution_count": 28,
     "metadata": {},
     "output_type": "execute_result"
    }
   ],
   "source": [
    "assessment2=pd.DataFrame(ttest_ind(pro_trial.loc[86], pro_trial.loc[155])).T\n",
    "assessment2.columns=['t-statistic','pvalue']\n",
    "assessment2.index=pro_trial.columns\n",
    "assessment2"
   ]
  },
  {
   "cell_type": "markdown",
   "metadata": {},
   "source": [
    "we see that the p-value are lesser than 0.05 so we reject the null hypothesis"
   ]
  },
  {
   "cell_type": "markdown",
   "metadata": {},
   "source": [
    "#### 11. Pro_trial vizualization for store 86 and 155"
   ]
  },
  {
   "cell_type": "code",
   "execution_count": 29,
   "metadata": {},
   "outputs": [
    {
     "data": {
      "image/png": "[encoded data removed]",
      "text/plain": [
       "<Figure size 432x288 with 1 Axes>"
      ]
     },
     "metadata": {
      "needs_background": "light"
     },
     "output_type": "display_data"
    }
   ],
   "source": [
    "viz_sales(86,155, 'TOT_SALES', pro_trial)"
   ]
  },
  {
   "cell_type": "code",
   "execution_count": 30,
   "metadata": {},
   "outputs": [
    {
     "data": {
      "image/png": "[encoded data removed]",
      "text/plain": [
       "<Figure size 432x288 with 1 Axes>"
      ]
     },
     "metadata": {
      "needs_background": "light"
     },
     "output_type": "display_data"
    }
   ],
   "source": [
    "viz_sales(86,155, 'TOT_CUST', pro_trial)"
   ]
  },
  {
   "cell_type": "markdown",
   "metadata": {},
   "source": [
    "#### 12. Correlated Stores and assessment for the control store number 88"
   ]
  },
  {
   "cell_type": "code",
   "execution_count": 31,
   "metadata": {},
   "outputs": [
    {
     "data": {
      "text/html": [
       "<div>\n",
       "<style scoped>\n",
       "    .dataframe tbody tr th:only-of-type {\n",
       "        vertical-align: middle;\n",
       "    }\n",
       "\n",
       "    .dataframe tbody tr th {\n",
       "        vertical-align: top;\n",
       "    }\n",
       "\n",
       "    .dataframe thead th {\n",
       "        text-align: right;\n",
       "    }\n",
       "</style>\n",
       "<table border=\"1\" class=\"dataframe\">\n",
       "  <thead>\n",
       "    <tr style=\"text-align: right;\">\n",
       "      <th></th>\n",
       "      <th></th>\n",
       "      <th>TOT_SALES</th>\n",
       "      <th>TOT_CUST</th>\n",
       "      <th>MAGN</th>\n",
       "    </tr>\n",
       "    <tr>\n",
       "      <th>STORE_NBR</th>\n",
       "      <th>MONTH</th>\n",
       "      <th></th>\n",
       "      <th></th>\n",
       "      <th></th>\n",
       "    </tr>\n",
       "  </thead>\n",
       "  <tbody>\n",
       "    <tr>\n",
       "      <th>88</th>\n",
       "      <th>201807</th>\n",
       "      <td>1.000000</td>\n",
       "      <td>1.000000</td>\n",
       "      <td>1.000000</td>\n",
       "    </tr>\n",
       "    <tr>\n",
       "      <th>178</th>\n",
       "      <th>201807</th>\n",
       "      <td>0.731857</td>\n",
       "      <td>0.939466</td>\n",
       "      <td>0.835661</td>\n",
       "    </tr>\n",
       "    <tr>\n",
       "      <th>14</th>\n",
       "      <th>201807</th>\n",
       "      <td>0.698557</td>\n",
       "      <td>0.942976</td>\n",
       "      <td>0.820767</td>\n",
       "    </tr>\n",
       "    <tr>\n",
       "      <th>133</th>\n",
       "      <th>201807</th>\n",
       "      <td>0.735407</td>\n",
       "      <td>0.835426</td>\n",
       "      <td>0.785417</td>\n",
       "    </tr>\n",
       "    <tr>\n",
       "      <th>204</th>\n",
       "      <th>201807</th>\n",
       "      <td>0.885774</td>\n",
       "      <td>0.550263</td>\n",
       "      <td>0.718018</td>\n",
       "    </tr>\n",
       "    <tr>\n",
       "      <th>...</th>\n",
       "      <th>...</th>\n",
       "      <td>...</td>\n",
       "      <td>...</td>\n",
       "      <td>...</td>\n",
       "    </tr>\n",
       "    <tr>\n",
       "      <th>271</th>\n",
       "      <th>201807</th>\n",
       "      <td>0.103037</td>\n",
       "      <td>0.018831</td>\n",
       "      <td>0.060934</td>\n",
       "    </tr>\n",
       "    <tr>\n",
       "      <th>177</th>\n",
       "      <th>201807</th>\n",
       "      <td>0.084074</td>\n",
       "      <td>0.005568</td>\n",
       "      <td>0.044821</td>\n",
       "    </tr>\n",
       "    <tr>\n",
       "      <th>170</th>\n",
       "      <th>201807</th>\n",
       "      <td>0.027262</td>\n",
       "      <td>0.028583</td>\n",
       "      <td>0.027923</td>\n",
       "    </tr>\n",
       "    <tr>\n",
       "      <th>137</th>\n",
       "      <th>201807</th>\n",
       "      <td>0.005058</td>\n",
       "      <td>0.039985</td>\n",
       "      <td>0.022521</td>\n",
       "    </tr>\n",
       "    <tr>\n",
       "      <th>194</th>\n",
       "      <th>201807</th>\n",
       "      <td>0.008321</td>\n",
       "      <td>0.009504</td>\n",
       "      <td>0.008912</td>\n",
       "    </tr>\n",
       "  </tbody>\n",
       "</table>\n",
       "<p>263 rows × 3 columns</p>\n",
       "</div>"
      ],
      "text/plain": [
       "                  TOT_SALES  TOT_CUST      MAGN\n",
       "STORE_NBR MONTH                                \n",
       "88        201807   1.000000  1.000000  1.000000\n",
       "178       201807   0.731857  0.939466  0.835661\n",
       "14        201807   0.698557  0.942976  0.820767\n",
       "133       201807   0.735407  0.835426  0.785417\n",
       "204       201807   0.885774  0.550263  0.718018\n",
       "...                     ...       ...       ...\n",
       "271       201807   0.103037  0.018831  0.060934\n",
       "177       201807   0.084074  0.005568  0.044821\n",
       "170       201807   0.027262  0.028583  0.027923\n",
       "137       201807   0.005058  0.039985  0.022521\n",
       "194       201807   0.008321  0.009504  0.008912\n",
       "\n",
       "[263 rows x 3 columns]"
      ]
     },
     "execution_count": 31,
     "metadata": {},
     "output_type": "execute_result"
    }
   ],
   "source": [
    "corlx88=findcorlx(88,pre_trial)\n",
    "corlx88"
   ]
  },
  {
   "cell_type": "markdown",
   "metadata": {},
   "source": [
    "**I will choose store num 178**"
   ]
  },
  {
   "cell_type": "code",
   "execution_count": 32,
   "metadata": {},
   "outputs": [
    {
     "data": {
      "image/png": "[encoded data removed]",
      "text/plain": [
       "<Figure size 432x288 with 1 Axes>"
      ]
     },
     "metadata": {
      "needs_background": "light"
     },
     "output_type": "display_data"
    }
   ],
   "source": [
    "viz_sales(88,178, 'TOT_SALES', pre_trial)"
   ]
  },
  {
   "cell_type": "code",
   "execution_count": 33,
   "metadata": {},
   "outputs": [
    {
     "data": {
      "image/png": "[encoded data removed]",
      "text/plain": [
       "<Figure size 432x288 with 1 Axes>"
      ]
     },
     "metadata": {
      "needs_background": "light"
     },
     "output_type": "display_data"
    }
   ],
   "source": [
    "viz_sales(88,178, 'TOT_CUST', pre_trial)"
   ]
  },
  {
   "cell_type": "code",
   "execution_count": 34,
   "metadata": {},
   "outputs": [
    {
     "data": {
      "text/html": [
       "<div>\n",
       "<style scoped>\n",
       "    .dataframe tbody tr th:only-of-type {\n",
       "        vertical-align: middle;\n",
       "    }\n",
       "\n",
       "    .dataframe tbody tr th {\n",
       "        vertical-align: top;\n",
       "    }\n",
       "\n",
       "    .dataframe thead th {\n",
       "        text-align: right;\n",
       "    }\n",
       "</style>\n",
       "<table border=\"1\" class=\"dataframe\">\n",
       "  <thead>\n",
       "    <tr style=\"text-align: right;\">\n",
       "      <th></th>\n",
       "      <th>t-statistic</th>\n",
       "      <th>pvalue</th>\n",
       "    </tr>\n",
       "  </thead>\n",
       "  <tbody>\n",
       "    <tr>\n",
       "      <th>TOT_SALES</th>\n",
       "      <td>6.125867</td>\n",
       "      <td>0.025628</td>\n",
       "    </tr>\n",
       "    <tr>\n",
       "      <th>TOT_CUST</th>\n",
       "      <td>4.505776</td>\n",
       "      <td>0.045892</td>\n",
       "    </tr>\n",
       "    <tr>\n",
       "      <th>TOT_CHIP</th>\n",
       "      <td>3.910074</td>\n",
       "      <td>0.059619</td>\n",
       "    </tr>\n",
       "    <tr>\n",
       "      <th>SALES_PER_CUST</th>\n",
       "      <td>3.727450</td>\n",
       "      <td>0.065032</td>\n",
       "    </tr>\n",
       "    <tr>\n",
       "      <th>CHIPS_PER_CUST</th>\n",
       "      <td>0.116248</td>\n",
       "      <td>0.918077</td>\n",
       "    </tr>\n",
       "    <tr>\n",
       "      <th>AVG_PRICE_PER_UNIT</th>\n",
       "      <td>8.192319</td>\n",
       "      <td>0.014575</td>\n",
       "    </tr>\n",
       "  </tbody>\n",
       "</table>\n",
       "</div>"
      ],
      "text/plain": [
       "                    t-statistic    pvalue\n",
       "TOT_SALES              6.125867  0.025628\n",
       "TOT_CUST               4.505776  0.045892\n",
       "TOT_CHIP               3.910074  0.059619\n",
       "SALES_PER_CUST         3.727450  0.065032\n",
       "CHIPS_PER_CUST         0.116248  0.918077\n",
       "AVG_PRICE_PER_UNIT     8.192319  0.014575"
      ]
     },
     "execution_count": 34,
     "metadata": {},
     "output_type": "execute_result"
    }
   ],
   "source": [
    "assessment3=pd.DataFrame(ttest_ind(pro_trial.loc[88], pro_trial.loc[178])).T\n",
    "assessment3.columns=['t-statistic','pvalue']\n",
    "assessment3.index=pro_trial.columns\n",
    "assessment3"
   ]
  },
  {
   "cell_type": "markdown",
   "metadata": {},
   "source": [
    "In this case we will reject the null hypothesis"
   ]
  },
  {
   "cell_type": "code",
   "execution_count": 35,
   "metadata": {},
   "outputs": [
    {
     "data": {
      "image/png": "[encoded data removed]",
      "text/plain": [
       "<Figure size 432x288 with 1 Axes>"
      ]
     },
     "metadata": {
      "needs_background": "light"
     },
     "output_type": "display_data"
    }
   ],
   "source": [
    "viz_sales(88,178, 'TOT_SALES', pro_trial)"
   ]
  },
  {
   "cell_type": "code",
   "execution_count": 36,
   "metadata": {},
   "outputs": [
    {
     "data": {
      "image/png": "[encoded data removed]",
      "text/plain": [
       "<Figure size 432x288 with 1 Axes>"
      ]
     },
     "metadata": {
      "needs_background": "light"
     },
     "output_type": "display_data"
    }
   ],
   "source": [
    "viz_sales(88,178, 'TOT_CUST', pro_trial)"
   ]
  },
  {
   "cell_type": "markdown",
   "metadata": {},
   "source": [
    "We've found control stores 233, 155, 178 for trial stores 77, 86 and 88\n",
    "respectively.\n",
    "The results for trial stores 77 and 88 during the trial period show a significant\n",
    "difference in at least two of the three trial months but this is not the case for\n",
    "trial store 86. We can check with the client if the implementation of the trial was\n",
    "different in trial store 86 but overall, the trial shows a significant increase in\n",
    "sales."
   ]
  },
  {
   "cell_type": "code",
   "execution_count": null,
   "metadata": {},
   "outputs": [],
   "source": []
  },
  {
   "cell_type": "code",
   "execution_count": null,
   "metadata": {},
   "outputs": [],
   "source": []
  }
 ],
 "metadata": {
  "kernelspec": {
   "display_name": "Python 3",
   "language": "python",
   "name": "python3"
  },
  "language_info": {
   "codemirror_mode": {
    "name": "ipython",
    "version": 3
   },
   "file_extension": ".py",
   "mimetype": "text/x-python",
   "name": "python",
   "nbconvert_exporter": "python",
   "pygments_lexer": "ipython3",
   "version": "3.8.3"
  }
 },
 "nbformat": 4,
 "nbformat_minor": 4
}
